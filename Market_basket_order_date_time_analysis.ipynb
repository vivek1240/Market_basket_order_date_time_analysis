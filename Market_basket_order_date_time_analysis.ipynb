{
 "cells": [
  {
   "cell_type": "markdown",
   "metadata": {},
   "source": [
    "# Perform Order Date Time Analysis"
   ]
  },
  {
   "cell_type": "code",
   "execution_count": null,
   "metadata": {},
   "outputs": [],
   "source": [
    "import numpy as np # linear algebra\n",
    "import pandas as pd # data processing, CSV file I/O (e.g. pd.read_csv)\n",
    "import matplotlib.pyplot as plt\n",
    "import seaborn as sns\n",
    "color = sns.color_palette()\n",
    "\n",
    "%matplotlib inline\n",
    "\n",
    "pd.options.mode.chained_assignment = None  # default='warn'"
   ]
  },
  {
   "cell_type": "code",
   "execution_count": 2,
   "metadata": {},
   "outputs": [],
   "source": [
    "#IMPORTING DATA\n",
    "maret_basket_analysis = pd.read_csv (r'H:\\intern_lovelocal\\ML_Project\\store_product_orders_data_modified.csv')\n",
    "maret_basket_analysis= maret_basket_analysis[['order_id','product_name','order_date']] #Taking required columns\n",
    "maret_basket_analysis.drop_duplicates(['order_id','product_name','order_date'],keep= 'last',inplace= True) #Removing duplicates products with in the transaction\n",
    "maret_basket_analysis.reset_index(drop=True, inplace= True) #Resetting the Index \n",
    "#maret_basket_analysis['product_name'] = maret_basket_analysis['product_name'].str.strip() #Removing unnecessary spaces"
   ]
  },
  {
   "cell_type": "code",
   "execution_count": 3,
   "metadata": {},
   "outputs": [
    {
     "data": {
      "text/html": [
       "<div>\n",
       "<style scoped>\n",
       "    .dataframe tbody tr th:only-of-type {\n",
       "        vertical-align: middle;\n",
       "    }\n",
       "\n",
       "    .dataframe tbody tr th {\n",
       "        vertical-align: top;\n",
       "    }\n",
       "\n",
       "    .dataframe thead th {\n",
       "        text-align: right;\n",
       "    }\n",
       "</style>\n",
       "<table border=\"1\" class=\"dataframe\">\n",
       "  <thead>\n",
       "    <tr style=\"text-align: right;\">\n",
       "      <th></th>\n",
       "      <th>order_id</th>\n",
       "      <th>product_name</th>\n",
       "      <th>order_date</th>\n",
       "    </tr>\n",
       "  </thead>\n",
       "  <tbody>\n",
       "    <tr>\n",
       "      <td>0</td>\n",
       "      <td>64890091</td>\n",
       "      <td>Gemini Refined Sunflower Oil Jar (5 L)</td>\n",
       "      <td>2019-12-01 02:58:11.242573</td>\n",
       "    </tr>\n",
       "    <tr>\n",
       "      <td>1</td>\n",
       "      <td>64890091</td>\n",
       "      <td>Aashirvaad Superior MP Atta (1 kg)</td>\n",
       "      <td>2019-12-01 02:58:11.242573</td>\n",
       "    </tr>\n",
       "    <tr>\n",
       "      <td>2</td>\n",
       "      <td>31384697</td>\n",
       "      <td>Mix Dryfruits 500 Gm</td>\n",
       "      <td>2019-12-01 07:06:46.397832</td>\n",
       "    </tr>\n",
       "    <tr>\n",
       "      <td>3</td>\n",
       "      <td>89309898</td>\n",
       "      <td>McCain Smiles (1.25 kg)</td>\n",
       "      <td>2019-12-01 06:33:10.835154</td>\n",
       "    </tr>\n",
       "    <tr>\n",
       "      <td>4</td>\n",
       "      <td>89309898</td>\n",
       "      <td>Svt Amla Fizz 300Ml</td>\n",
       "      <td>2019-12-01 06:33:10.835154</td>\n",
       "    </tr>\n",
       "  </tbody>\n",
       "</table>\n",
       "</div>"
      ],
      "text/plain": [
       "   order_id                            product_name  \\\n",
       "0  64890091  Gemini Refined Sunflower Oil Jar (5 L)   \n",
       "1  64890091      Aashirvaad Superior MP Atta (1 kg)   \n",
       "2  31384697                    Mix Dryfruits 500 Gm   \n",
       "3  89309898                 McCain Smiles (1.25 kg)   \n",
       "4  89309898                     Svt Amla Fizz 300Ml   \n",
       "\n",
       "                   order_date  \n",
       "0  2019-12-01 02:58:11.242573  \n",
       "1  2019-12-01 02:58:11.242573  \n",
       "2  2019-12-01 07:06:46.397832  \n",
       "3  2019-12-01 06:33:10.835154  \n",
       "4  2019-12-01 06:33:10.835154  "
      ]
     },
     "execution_count": 3,
     "metadata": {},
     "output_type": "execute_result"
    }
   ],
   "source": [
    "maret_basket_analysis.head()"
   ]
  },
  {
   "cell_type": "code",
   "execution_count": 4,
   "metadata": {},
   "outputs": [
    {
     "data": {
      "text/plain": [
       "str"
      ]
     },
     "execution_count": 4,
     "metadata": {},
     "output_type": "execute_result"
    }
   ],
   "source": [
    "type(maret_basket_analysis['order_date'][0])"
   ]
  },
  {
   "cell_type": "code",
   "execution_count": 11,
   "metadata": {},
   "outputs": [],
   "source": [
    "maret_basket_analysis['order_date']= pd.to_datetime(maret_basket_analysis['order_date'])"
   ]
  },
  {
   "cell_type": "code",
   "execution_count": 12,
   "metadata": {},
   "outputs": [],
   "source": [
    "maret_basket_analysis['order_date'] = maret_basket_analysis['order_date'].astype('datetime64[s]')"
   ]
  },
  {
   "cell_type": "code",
   "execution_count": 29,
   "metadata": {},
   "outputs": [],
   "source": [
    "maret_basket_analysis['day_of_week'] = maret_basket_analysis['order_date'].dt.weekday_name"
   ]
  },
  {
   "cell_type": "code",
   "execution_count": 13,
   "metadata": {},
   "outputs": [],
   "source": [
    "maret_basket_analysis['new_date'] = [d.date() for d in maret_basket_analysis['order_date']]\n",
    "maret_basket_analysis['new_time'] = [d.time() for d in maret_basket_analysis['order_date']]"
   ]
  },
  {
   "cell_type": "code",
   "execution_count": 14,
   "metadata": {},
   "outputs": [
    {
     "data": {
      "text/html": [
       "<div>\n",
       "<style scoped>\n",
       "    .dataframe tbody tr th:only-of-type {\n",
       "        vertical-align: middle;\n",
       "    }\n",
       "\n",
       "    .dataframe tbody tr th {\n",
       "        vertical-align: top;\n",
       "    }\n",
       "\n",
       "    .dataframe thead th {\n",
       "        text-align: right;\n",
       "    }\n",
       "</style>\n",
       "<table border=\"1\" class=\"dataframe\">\n",
       "  <thead>\n",
       "    <tr style=\"text-align: right;\">\n",
       "      <th></th>\n",
       "      <th>order_id</th>\n",
       "      <th>product_name</th>\n",
       "      <th>order_date</th>\n",
       "      <th>new_date</th>\n",
       "      <th>new_time</th>\n",
       "    </tr>\n",
       "  </thead>\n",
       "  <tbody>\n",
       "    <tr>\n",
       "      <td>0</td>\n",
       "      <td>64890091</td>\n",
       "      <td>Gemini Refined Sunflower Oil Jar (5 L)</td>\n",
       "      <td>2019-12-01 02:58:11</td>\n",
       "      <td>2019-12-01</td>\n",
       "      <td>02:58:11</td>\n",
       "    </tr>\n",
       "    <tr>\n",
       "      <td>1</td>\n",
       "      <td>64890091</td>\n",
       "      <td>Aashirvaad Superior MP Atta (1 kg)</td>\n",
       "      <td>2019-12-01 02:58:11</td>\n",
       "      <td>2019-12-01</td>\n",
       "      <td>02:58:11</td>\n",
       "    </tr>\n",
       "    <tr>\n",
       "      <td>2</td>\n",
       "      <td>31384697</td>\n",
       "      <td>Mix Dryfruits 500 Gm</td>\n",
       "      <td>2019-12-01 07:06:46</td>\n",
       "      <td>2019-12-01</td>\n",
       "      <td>07:06:46</td>\n",
       "    </tr>\n",
       "    <tr>\n",
       "      <td>3</td>\n",
       "      <td>89309898</td>\n",
       "      <td>McCain Smiles (1.25 kg)</td>\n",
       "      <td>2019-12-01 06:33:10</td>\n",
       "      <td>2019-12-01</td>\n",
       "      <td>06:33:10</td>\n",
       "    </tr>\n",
       "    <tr>\n",
       "      <td>4</td>\n",
       "      <td>89309898</td>\n",
       "      <td>Svt Amla Fizz 300Ml</td>\n",
       "      <td>2019-12-01 06:33:10</td>\n",
       "      <td>2019-12-01</td>\n",
       "      <td>06:33:10</td>\n",
       "    </tr>\n",
       "  </tbody>\n",
       "</table>\n",
       "</div>"
      ],
      "text/plain": [
       "   order_id                            product_name          order_date  \\\n",
       "0  64890091  Gemini Refined Sunflower Oil Jar (5 L) 2019-12-01 02:58:11   \n",
       "1  64890091      Aashirvaad Superior MP Atta (1 kg) 2019-12-01 02:58:11   \n",
       "2  31384697                    Mix Dryfruits 500 Gm 2019-12-01 07:06:46   \n",
       "3  89309898                 McCain Smiles (1.25 kg) 2019-12-01 06:33:10   \n",
       "4  89309898                     Svt Amla Fizz 300Ml 2019-12-01 06:33:10   \n",
       "\n",
       "     new_date  new_time  \n",
       "0  2019-12-01  02:58:11  \n",
       "1  2019-12-01  02:58:11  \n",
       "2  2019-12-01  07:06:46  \n",
       "3  2019-12-01  06:33:10  \n",
       "4  2019-12-01  06:33:10  "
      ]
     },
     "execution_count": 14,
     "metadata": {},
     "output_type": "execute_result"
    }
   ],
   "source": [
    "maret_basket_analysis.head()"
   ]
  },
  {
   "cell_type": "code",
   "execution_count": 16,
   "metadata": {},
   "outputs": [],
   "source": [
    "maret_basket_analysis['hour'] = pd.to_datetime(maret_basket_analysis['new_time'], format='%H:%M:%S').dt.hour"
   ]
  },
  {
   "cell_type": "code",
   "execution_count": 30,
   "metadata": {},
   "outputs": [
    {
     "data": {
      "text/html": [
       "<div>\n",
       "<style scoped>\n",
       "    .dataframe tbody tr th:only-of-type {\n",
       "        vertical-align: middle;\n",
       "    }\n",
       "\n",
       "    .dataframe tbody tr th {\n",
       "        vertical-align: top;\n",
       "    }\n",
       "\n",
       "    .dataframe thead th {\n",
       "        text-align: right;\n",
       "    }\n",
       "</style>\n",
       "<table border=\"1\" class=\"dataframe\">\n",
       "  <thead>\n",
       "    <tr style=\"text-align: right;\">\n",
       "      <th></th>\n",
       "      <th>order_id</th>\n",
       "      <th>product_name</th>\n",
       "      <th>order_date</th>\n",
       "      <th>new_date</th>\n",
       "      <th>new_time</th>\n",
       "      <th>hour</th>\n",
       "      <th>day_of_week</th>\n",
       "    </tr>\n",
       "  </thead>\n",
       "  <tbody>\n",
       "    <tr>\n",
       "      <td>0</td>\n",
       "      <td>64890091</td>\n",
       "      <td>Gemini Refined Sunflower Oil Jar (5 L)</td>\n",
       "      <td>2019-12-01 02:58:11</td>\n",
       "      <td>2019-12-01</td>\n",
       "      <td>02:58:11</td>\n",
       "      <td>2</td>\n",
       "      <td>Sunday</td>\n",
       "    </tr>\n",
       "    <tr>\n",
       "      <td>1</td>\n",
       "      <td>64890091</td>\n",
       "      <td>Aashirvaad Superior MP Atta (1 kg)</td>\n",
       "      <td>2019-12-01 02:58:11</td>\n",
       "      <td>2019-12-01</td>\n",
       "      <td>02:58:11</td>\n",
       "      <td>2</td>\n",
       "      <td>Sunday</td>\n",
       "    </tr>\n",
       "    <tr>\n",
       "      <td>2</td>\n",
       "      <td>31384697</td>\n",
       "      <td>Mix Dryfruits 500 Gm</td>\n",
       "      <td>2019-12-01 07:06:46</td>\n",
       "      <td>2019-12-01</td>\n",
       "      <td>07:06:46</td>\n",
       "      <td>7</td>\n",
       "      <td>Sunday</td>\n",
       "    </tr>\n",
       "    <tr>\n",
       "      <td>3</td>\n",
       "      <td>89309898</td>\n",
       "      <td>McCain Smiles (1.25 kg)</td>\n",
       "      <td>2019-12-01 06:33:10</td>\n",
       "      <td>2019-12-01</td>\n",
       "      <td>06:33:10</td>\n",
       "      <td>6</td>\n",
       "      <td>Sunday</td>\n",
       "    </tr>\n",
       "    <tr>\n",
       "      <td>4</td>\n",
       "      <td>89309898</td>\n",
       "      <td>Svt Amla Fizz 300Ml</td>\n",
       "      <td>2019-12-01 06:33:10</td>\n",
       "      <td>2019-12-01</td>\n",
       "      <td>06:33:10</td>\n",
       "      <td>6</td>\n",
       "      <td>Sunday</td>\n",
       "    </tr>\n",
       "  </tbody>\n",
       "</table>\n",
       "</div>"
      ],
      "text/plain": [
       "   order_id                            product_name          order_date  \\\n",
       "0  64890091  Gemini Refined Sunflower Oil Jar (5 L) 2019-12-01 02:58:11   \n",
       "1  64890091      Aashirvaad Superior MP Atta (1 kg) 2019-12-01 02:58:11   \n",
       "2  31384697                    Mix Dryfruits 500 Gm 2019-12-01 07:06:46   \n",
       "3  89309898                 McCain Smiles (1.25 kg) 2019-12-01 06:33:10   \n",
       "4  89309898                     Svt Amla Fizz 300Ml 2019-12-01 06:33:10   \n",
       "\n",
       "     new_date  new_time  hour day_of_week  \n",
       "0  2019-12-01  02:58:11     2      Sunday  \n",
       "1  2019-12-01  02:58:11     2      Sunday  \n",
       "2  2019-12-01  07:06:46     7      Sunday  \n",
       "3  2019-12-01  06:33:10     6      Sunday  \n",
       "4  2019-12-01  06:33:10     6      Sunday  "
      ]
     },
     "execution_count": 30,
     "metadata": {},
     "output_type": "execute_result"
    }
   ],
   "source": [
    "maret_basket_analysis.head()"
   ]
  },
  {
   "cell_type": "markdown",
   "metadata": {},
   "source": [
    "# Order Date Time Analysis"
   ]
  },
  {
   "cell_type": "code",
   "execution_count": 37,
   "metadata": {},
   "outputs": [
    {
     "data": {
      "image/png": "[encoded data removed]",
      "text/plain": [
       "<Figure size 864x576 with 1 Axes>"
      ]
     },
     "metadata": {
      "needs_background": "light"
     },
     "output_type": "display_data"
    }
   ],
   "source": [
    "plt.figure(figsize=(12,8))\n",
    "sns.countplot(x=\"day_of_week\", data=maret_basket_analysis[['order_id','day_of_week']], color=color[0])\n",
    "plt.ylabel('Count', fontsize=12)\n",
    "plt.xlabel('Day of week', fontsize=12)\n",
    "plt.xticks(rotation='vertical')\n",
    "plt.title(\"Frequency of order by week day\", fontsize=15)\n",
    "plt.show()"
   ]
  },
  {
   "cell_type": "code",
   "execution_count": 38,
   "metadata": {},
   "outputs": [
    {
     "data": {
      "image/png": "[encoded data removed]",
      "text/plain": [
       "<Figure size 864x576 with 1 Axes>"
      ]
     },
     "metadata": {
      "needs_background": "light"
     },
     "output_type": "display_data"
    }
   ],
   "source": [
    "plt.figure(figsize=(12,8))\n",
    "sns.countplot(x=\"hour\", data=maret_basket_analysis[['order_id','hour']], color=color[1])\n",
    "plt.ylabel('Count', fontsize=12)\n",
    "plt.xlabel('Hour of day', fontsize=12)\n",
    "plt.xticks(rotation='vertical')\n",
    "plt.title(\"Frequency of order by hour of day\", fontsize=15)\n",
    "plt.show()"
   ]
  },
  {
   "cell_type": "markdown",
   "metadata": {},
   "source": [
    "#So majority of the orders are made during day time. Now let us combine the day of week and hour of day to see the distribution"
   ]
  },
  {
   "cell_type": "code",
   "execution_count": null,
   "metadata": {},
   "outputs": [],
   "source": []
  }
 ],
 "metadata": {
  "kernelspec": {
   "display_name": "Python 3",
   "language": "python",
   "name": "python3"
  },
  "language_info": {
   "codemirror_mode": {
    "name": "ipython",
    "version": 3
   },
   "file_extension": ".py",
   "mimetype": "text/x-python",
   "name": "python",
   "nbconvert_exporter": "python",
   "pygments_lexer": "ipython3",
   "version": "3.7.4"
  }
 },
 "nbformat": 4,
 "nbformat_minor": 2
}
